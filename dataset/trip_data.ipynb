{
 "cells": [
  {
   "cell_type": "code",
   "execution_count": 6,
   "id": "3ce033aa",
   "metadata": {},
   "outputs": [],
   "source": [
    "import pandas as pd\n",
    "from sklearn.model_selection import train_test_split\n",
    "from sklearn.tree import DecisionTreeClassifier\n",
    "from sklearn.metrics import accuracy_score\n",
    "from sklearn.preprocessing import LabelEncoder"
   ]
  },
  {
   "cell_type": "code",
   "execution_count": 7,
   "id": "a9fdad0b",
   "metadata": {},
   "outputs": [
    {
     "data": {
      "text/html": [
       "<div>\n",
       "<style scoped>\n",
       "    .dataframe tbody tr th:only-of-type {\n",
       "        vertical-align: middle;\n",
       "    }\n",
       "\n",
       "    .dataframe tbody tr th {\n",
       "        vertical-align: top;\n",
       "    }\n",
       "\n",
       "    .dataframe thead th {\n",
       "        text-align: right;\n",
       "    }\n",
       "</style>\n",
       "<table border=\"1\" class=\"dataframe\">\n",
       "  <thead>\n",
       "    <tr style=\"text-align: right;\">\n",
       "      <th></th>\n",
       "      <th>Duration</th>\n",
       "      <th>Start date</th>\n",
       "      <th>End date</th>\n",
       "      <th>Start station</th>\n",
       "      <th>End station</th>\n",
       "      <th>Bike#</th>\n",
       "      <th>Member Type</th>\n",
       "    </tr>\n",
       "  </thead>\n",
       "  <tbody>\n",
       "    <tr>\n",
       "      <th>0</th>\n",
       "      <td>0h 1min. 50sec.</td>\n",
       "      <td>3/31/2011 23:58</td>\n",
       "      <td>4/1/2011 0:00</td>\n",
       "      <td>14th &amp; Harvard St NW (31105)</td>\n",
       "      <td>16th &amp; Harvard St NW (31103)</td>\n",
       "      <td>W00749</td>\n",
       "      <td>Registered</td>\n",
       "    </tr>\n",
       "    <tr>\n",
       "      <th>1</th>\n",
       "      <td>0h 16min. 21sec.</td>\n",
       "      <td>3/31/2011 23:52</td>\n",
       "      <td>4/1/2011 0:08</td>\n",
       "      <td>19th &amp; L St NW (31224)</td>\n",
       "      <td>7th &amp; Water St SW / SW Waterfront (31609)</td>\n",
       "      <td>W01048</td>\n",
       "      <td>Casual</td>\n",
       "    </tr>\n",
       "    <tr>\n",
       "      <th>2</th>\n",
       "      <td>0h 3min. 19sec.</td>\n",
       "      <td>3/31/2011 23:47</td>\n",
       "      <td>3/31/2011 23:50</td>\n",
       "      <td>Lincoln Park / 13th &amp; East Capitol St NE  (31619)</td>\n",
       "      <td>13th &amp; H St NE (31611)</td>\n",
       "      <td>W00340</td>\n",
       "      <td>Registered</td>\n",
       "    </tr>\n",
       "    <tr>\n",
       "      <th>3</th>\n",
       "      <td>0h 5min. 44sec.</td>\n",
       "      <td>3/31/2011 23:45</td>\n",
       "      <td>3/31/2011 23:50</td>\n",
       "      <td>14th &amp; R St NW (31202)</td>\n",
       "      <td>Massachusetts Ave &amp; Dupont Circle NW (31200)</td>\n",
       "      <td>W00981</td>\n",
       "      <td>Registered</td>\n",
       "    </tr>\n",
       "    <tr>\n",
       "      <th>4</th>\n",
       "      <td>0h 8min. 42sec.</td>\n",
       "      <td>3/31/2011 23:34</td>\n",
       "      <td>3/31/2011 23:43</td>\n",
       "      <td>Park Rd &amp; Holmead Pl NW (31602)</td>\n",
       "      <td>15th &amp; P St NW (31201)</td>\n",
       "      <td>W00449</td>\n",
       "      <td>Registered</td>\n",
       "    </tr>\n",
       "  </tbody>\n",
       "</table>\n",
       "</div>"
      ],
      "text/plain": [
       "           Duration       Start date         End date  \\\n",
       "0   0h 1min. 50sec.  3/31/2011 23:58    4/1/2011 0:00   \n",
       "1  0h 16min. 21sec.  3/31/2011 23:52    4/1/2011 0:08   \n",
       "2   0h 3min. 19sec.  3/31/2011 23:47  3/31/2011 23:50   \n",
       "3   0h 5min. 44sec.  3/31/2011 23:45  3/31/2011 23:50   \n",
       "4   0h 8min. 42sec.  3/31/2011 23:34  3/31/2011 23:43   \n",
       "\n",
       "                                       Start station  \\\n",
       "0                       14th & Harvard St NW (31105)   \n",
       "1                             19th & L St NW (31224)   \n",
       "2  Lincoln Park / 13th & East Capitol St NE  (31619)   \n",
       "3                             14th & R St NW (31202)   \n",
       "4                    Park Rd & Holmead Pl NW (31602)   \n",
       "\n",
       "                                    End station   Bike# Member Type  \n",
       "0                  16th & Harvard St NW (31103)  W00749  Registered  \n",
       "1     7th & Water St SW / SW Waterfront (31609)  W01048      Casual  \n",
       "2                        13th & H St NE (31611)  W00340  Registered  \n",
       "3  Massachusetts Ave & Dupont Circle NW (31200)  W00981  Registered  \n",
       "4                        15th & P St NW (31201)  W00449  Registered  "
      ]
     },
     "execution_count": 7,
     "metadata": {},
     "output_type": "execute_result"
    }
   ],
   "source": [
    "df = pd.read_csv(\"trip_data.csv\")\n",
    "df.head()"
   ]
  },
  {
   "cell_type": "code",
   "execution_count": 8,
   "id": "5ac5859d",
   "metadata": {},
   "outputs": [
    {
     "name": "stdout",
     "output_type": "stream",
     "text": [
      "<class 'pandas.core.frame.DataFrame'>\n",
      "RangeIndex: 150071 entries, 0 to 150070\n",
      "Data columns (total 7 columns):\n",
      " #   Column         Non-Null Count   Dtype \n",
      "---  ------         --------------   ----- \n",
      " 0   Duration       150071 non-null  object\n",
      " 1   Start date     150071 non-null  object\n",
      " 2   End date       150071 non-null  object\n",
      " 3   Start station  150071 non-null  object\n",
      " 4   End station    150060 non-null  object\n",
      " 5   Bike#          150071 non-null  object\n",
      " 6   Member Type    150071 non-null  object\n",
      "dtypes: object(7)\n",
      "memory usage: 8.0+ MB\n"
     ]
    }
   ],
   "source": [
    "df.info()"
   ]
  },
  {
   "cell_type": "code",
   "execution_count": 12,
   "id": "116d85dc",
   "metadata": {},
   "outputs": [],
   "source": [
    "# Preprocess the data\n",
    "# Convert categorical data to numerical using LabelEncoder\n",
    "label_encoder = LabelEncoder()\n",
    "df['Start station'] = label_encoder.fit_transform(df['Start station'])\n",
    "df['End station'] = label_encoder.fit_transform(df['End station'])\n",
    "df['Bike#'] = label_encoder.fit_transform(df['Bike#'])\n",
    "df['Member Type'] = label_encoder.fit_transform(df['Member Type'])"
   ]
  },
  {
   "cell_type": "code",
   "execution_count": 13,
   "id": "68820c5c",
   "metadata": {},
   "outputs": [],
   "source": [
    "\n",
    "# Prepare features and target\n",
    "X = df[['Start station', 'End station', 'Bike#']]\n",
    "y = df['Member Type']\n",
    "\n",
    "# Split the data\n",
    "X_train, X_test, y_train, y_test = train_test_split(X, y, test_size=0.2, random_state=42)"
   ]
  },
  {
   "cell_type": "code",
   "execution_count": 14,
   "id": "3a8f66d7",
   "metadata": {},
   "outputs": [
    {
     "name": "stdout",
     "output_type": "stream",
     "text": [
      "Accuracy: 0.7959020489755122\n"
     ]
    }
   ],
   "source": [
    "# Train a Decision Tree classifier\n",
    "classifier = DecisionTreeClassifier(random_state=42)\n",
    "classifier.fit(X_train, y_train)\n",
    "\n",
    "# Predict and evaluate\n",
    "y_pred = classifier.predict(X_test)\n",
    "accuracy = accuracy_score(y_test, y_pred)\n",
    "\n",
    "print(f'Accuracy: {accuracy}')"
   ]
  },
  {
   "cell_type": "code",
   "execution_count": null,
   "id": "0abc08c0",
   "metadata": {},
   "outputs": [],
   "source": []
  }
 ],
 "metadata": {
  "kernelspec": {
   "display_name": "Python 3 (ipykernel)",
   "language": "python",
   "name": "python3"
  },
  "language_info": {
   "codemirror_mode": {
    "name": "ipython",
    "version": 3
   },
   "file_extension": ".py",
   "mimetype": "text/x-python",
   "name": "python",
   "nbconvert_exporter": "python",
   "pygments_lexer": "ipython3",
   "version": "3.10.7"
  }
 },
 "nbformat": 4,
 "nbformat_minor": 5
}
